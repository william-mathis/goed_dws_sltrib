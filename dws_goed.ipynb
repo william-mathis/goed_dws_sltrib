{
 "cells": [
  {
   "cell_type": "markdown",
   "metadata": {
    "deletable": true,
    "editable": true
   },
   "source": [
    "# How well do GOED's incentives work?\n",
    "Every year the Governor's Office of Economic Development (GOED) awards millions of dollars in tax incentives to private companies in exchang for the creation of new high-paying jobs in Utah. However, GOED will not release any data about how those deals are progressing. Did the companies actually generate the jobs? No one knows, but GOED. But the Department of Workforce Services keeps track of employment numbers for every firm in the state. So we tracked down historical DWS employment data and then tracked the job growth for every GOED-incentivized company. \n",
    "\n",
    "Here's how we did it:\n",
    "First we import the employment data. The data for 2017 is stored as two csvs, one for Salt Lake County and one for the rest of the states. Those had to be concatenated into one. The rest of the years' data are stored more simply, as one csv. "
   ]
  },
  {
   "cell_type": "code",
   "execution_count": 1,
   "metadata": {
    "collapsed": true,
    "deletable": true,
    "editable": true
   },
   "outputs": [],
   "source": [
    "import pandas as pd"
   ]
  },
  {
   "cell_type": "code",
   "execution_count": 2,
   "metadata": {
    "collapsed": true,
    "deletable": true,
    "editable": true
   },
   "outputs": [],
   "source": [
    "employees_slc2017 = pd.read_csv('sheets/ffind_saltlake_clean_2.csv')"
   ]
  },
  {
   "cell_type": "code",
   "execution_count": 3,
   "metadata": {
    "collapsed": true,
    "deletable": true,
    "editable": true
   },
   "outputs": [],
   "source": [
    "employees_ut = pd.read_csv('sheets/ffind_other_clean.csv')"
   ]
  },
  {
   "cell_type": "code",
   "execution_count": 4,
   "metadata": {
    "collapsed": false,
    "deletable": true,
    "editable": true
   },
   "outputs": [],
   "source": [
    "all_emp2017 = [employees_slc2017, employees_ut]"
   ]
  },
  {
   "cell_type": "code",
   "execution_count": 5,
   "metadata": {
    "collapsed": true,
    "deletable": true,
    "editable": true
   },
   "outputs": [],
   "source": [
    "employees_2017 = pd.concat(all_emp2017)"
   ]
  },
  {
   "cell_type": "code",
   "execution_count": 6,
   "metadata": {
    "collapsed": false,
    "deletable": true,
    "editable": true
   },
   "outputs": [
    {
     "name": "stdout",
     "output_type": "stream",
     "text": [
      "<class 'pandas.core.frame.DataFrame'>\n",
      "Int64Index: 97149 entries, 0 to 53482\n",
      "Data columns (total 16 columns):\n",
      "YEAR            97149 non-null int64\n",
      "NAME            97147 non-null object\n",
      "NAME_CLEAN      43664 non-null object\n",
      "ADDRESS1        79726 non-null object\n",
      "ADDRESS2        5723 non-null object\n",
      "CITY            80318 non-null object\n",
      "STATE           80319 non-null object\n",
      "ZIP             80319 non-null float64\n",
      "COUNTYCODE      97149 non-null int64\n",
      "COUNTYNAME      97149 non-null object\n",
      "PHONE           83783 non-null object\n",
      "EMP_MIN         97149 non-null int64\n",
      "EMP_MAX         84715 non-null float64\n",
      "EMPRANGECODE    97149 non-null object\n",
      "NAICS           97149 non-null int64\n",
      "OWNERSHIP       97149 non-null object\n",
      "dtypes: float64(2), int64(4), object(10)\n",
      "memory usage: 12.6+ MB\n"
     ]
    }
   ],
   "source": [
    "employees_2017.info()"
   ]
  },
  {
   "cell_type": "code",
   "execution_count": 10,
   "metadata": {
    "collapsed": false,
    "deletable": true,
    "editable": true
   },
   "outputs": [],
   "source": [
    "employees_2006 = pd.read_csv('sheets/refined/firmfindsept2006_refined-2.csv')"
   ]
  },
  {
   "cell_type": "code",
   "execution_count": 13,
   "metadata": {
    "collapsed": true,
    "deletable": true,
    "editable": true
   },
   "outputs": [],
   "source": [
    "employees_2007 = pd.read_csv('sheets/refined/firmfindsept2007_refined-2.csv')"
   ]
  },
  {
   "cell_type": "code",
   "execution_count": 14,
   "metadata": {
    "collapsed": true,
    "deletable": true,
    "editable": true
   },
   "outputs": [],
   "source": [
    "employees_2008 = pd.read_csv('sheets/refined/firmfindsept2008_refined-2.csv')"
   ]
  },
  {
   "cell_type": "code",
   "execution_count": 15,
   "metadata": {
    "collapsed": false,
    "deletable": true,
    "editable": true
   },
   "outputs": [],
   "source": [
    "employees_2009 = pd.read_csv('sheets/refined/firmfindsept2009_refined-2.csv')"
   ]
  },
  {
   "cell_type": "code",
   "execution_count": 16,
   "metadata": {
    "collapsed": true,
    "deletable": true,
    "editable": true
   },
   "outputs": [],
   "source": [
    "employees_2010 = pd.read_csv('sheets/refined/firmfindsept2010_refined-2.csv')"
   ]
  },
  {
   "cell_type": "code",
   "execution_count": 17,
   "metadata": {
    "collapsed": false,
    "deletable": true,
    "editable": true
   },
   "outputs": [],
   "source": [
    "employees_2011 = pd.read_csv('sheets/refined/firmfindsept2011_refined-2.csv')"
   ]
  },
  {
   "cell_type": "code",
   "execution_count": 19,
   "metadata": {
    "collapsed": false,
    "deletable": true,
    "editable": true
   },
   "outputs": [],
   "source": [
    "employees_2012 = pd.read_csv('sheets/refined/firmfindsept2012_refined-2.csv')"
   ]
  },
  {
   "cell_type": "code",
   "execution_count": 20,
   "metadata": {
    "collapsed": false,
    "deletable": true,
    "editable": true
   },
   "outputs": [],
   "source": [
    "employees_2013 = pd.read_csv('sheets/refined/firmfindsept2013_refined-2.csv', dtype={'': object, 'year': object, 'NAME': object, 'NAME_CLEAN': object, 'Address 1': object, 'Address 2': object, 'City': object, 'State': object, 'Zip': object, 'Phone': object, 'NAICS': object, 'OWN': object, 'County Code': float, 'EMP Range': object, 'EMP_MIN': float, 'EMP_MAX': float,})"
   ]
  },
  {
   "cell_type": "code",
   "execution_count": 21,
   "metadata": {
    "collapsed": false,
    "deletable": true,
    "editable": true,
    "scrolled": true
   },
   "outputs": [],
   "source": [
    "employees_2014 = pd.read_csv('sheets/refined/firmfindsept2014_refined-2.csv')"
   ]
  },
  {
   "cell_type": "code",
   "execution_count": 23,
   "metadata": {
    "collapsed": false,
    "deletable": true,
    "editable": true
   },
   "outputs": [],
   "source": [
    "employees_2015 = pd.read_csv('sheets/refined/firmfindsept2015_refined-2.csv')"
   ]
  },
  {
   "cell_type": "code",
   "execution_count": 24,
   "metadata": {
    "collapsed": false,
    "deletable": true,
    "editable": true
   },
   "outputs": [],
   "source": [
    "employees_2016 = pd.read_csv('sheets/refined/firmfindsept2016_refined-2.csv')"
   ]
  },
  {
   "cell_type": "code",
   "execution_count": 27,
   "metadata": {
    "collapsed": false,
    "deletable": true,
    "editable": true
   },
   "outputs": [],
   "source": [
    "employed_2017 = pd.read_csv('sheets/refined/ffind2017_refined-2.csv')"
   ]
  },
  {
   "cell_type": "markdown",
   "metadata": {
    "deletable": true,
    "editable": true
   },
   "source": [
    "We then concatenated all that employment data into one massive spreadsheet. We ran that spreadsheet through Open Refine, created a new column called NAME_CLEAN and then standardized the names based on a spreadsheet of all the EDTIF agreements."
   ]
  },
  {
   "cell_type": "code",
   "execution_count": 28,
   "metadata": {
    "collapsed": false,
    "deletable": true,
    "editable": true
   },
   "outputs": [],
   "source": [
    "emp_2006_17 = [employees_2006, employees_2007, employees_2008, employees_2009, employees_2010, employees_2011, employees_2012, employees_2013, employees_2014, employees_2015, employees_2016, employed_2017]"
   ]
  },
  {
   "cell_type": "code",
   "execution_count": 29,
   "metadata": {
    "collapsed": true,
    "deletable": true,
    "editable": true
   },
   "outputs": [],
   "source": [
    "all_emp = pd.concat(emp_2006_17)"
   ]
  },
  {
   "cell_type": "markdown",
   "metadata": {
    "deletable": true,
    "editable": true
   },
   "source": [
    "Then we imported a csv that contained all the GOED EDTIF agreements going back to 2006. We used a script to make every entry capitalized, so that it would be compatible with the all employment data, which is capitalized."
   ]
  },
  {
   "cell_type": "code",
   "execution_count": 30,
   "metadata": {
    "collapsed": false,
    "deletable": true,
    "editable": true
   },
   "outputs": [],
   "source": [
    "edtif = pd.read_csv('sheets/CleanEdtifAll_2.csv')"
   ]
  },
  {
   "cell_type": "code",
   "execution_count": 31,
   "metadata": {
    "collapsed": true,
    "deletable": true,
    "editable": true
   },
   "outputs": [],
   "source": [
    "edtif_caps = edtif.apply(lambda x: x.astype(str).str.upper())"
   ]
  },
  {
   "cell_type": "markdown",
   "metadata": {
    "deletable": true,
    "editable": true
   },
   "source": [
    "We then merged the two files, the employment csv and the incentives csv, on the 'NAME_CLEAN' column. And from there we can look at each individual company and see their employment overtime. "
   ]
  },
  {
   "cell_type": "code",
   "execution_count": 32,
   "metadata": {
    "collapsed": false,
    "deletable": true,
    "editable": true
   },
   "outputs": [],
   "source": [
    "merge = pd.merge(all_emp, edtif_caps, on='NAME_CLEAN')"
   ]
  },
  {
   "cell_type": "code",
   "execution_count": 28,
   "metadata": {
    "collapsed": false,
    "deletable": true,
    "editable": true
   },
   "outputs": [
    {
     "data": {
      "text/html": [
       "<div>\n",
       "<table border=\"1\" class=\"dataframe\">\n",
       "  <thead>\n",
       "    <tr style=\"text-align: right;\">\n",
       "      <th></th>\n",
       "      <th>ADDRESS1</th>\n",
       "      <th>ADDRESS2</th>\n",
       "      <th>CITY</th>\n",
       "      <th>COUNTY</th>\n",
       "      <th>COUNTYCODE</th>\n",
       "      <th>EMP RANGE</th>\n",
       "      <th>EMP_MAX</th>\n",
       "      <th>EMP_MIN</th>\n",
       "      <th>EMP_MIN 1</th>\n",
       "      <th>EMP_MIN 2</th>\n",
       "      <th>...</th>\n",
       "      <th>Maximum_Cap_Incentive</th>\n",
       "      <th>per job cost</th>\n",
       "      <th>start_year_min</th>\n",
       "      <th>start_year_max</th>\n",
       "      <th>end_year_min</th>\n",
       "      <th>end_year_max</th>\n",
       "      <th>min_2017</th>\n",
       "      <th>max_2017</th>\n",
       "      <th>min_growth</th>\n",
       "      <th>max_growth</th>\n",
       "    </tr>\n",
       "  </thead>\n",
       "  <tbody>\n",
       "    <tr>\n",
       "      <th>0</th>\n",
       "      <td>NaN</td>\n",
       "      <td>NaN</td>\n",
       "      <td>NaN</td>\n",
       "      <td>35.0</td>\n",
       "      <td>NaN</td>\n",
       "      <td>50-99</td>\n",
       "      <td>99.0</td>\n",
       "      <td>50.0</td>\n",
       "      <td>NaN</td>\n",
       "      <td>NaN</td>\n",
       "      <td>...</td>\n",
       "      <td>$85,000,000</td>\n",
       "      <td>$71,729.96</td>\n",
       "      <td>NAN</td>\n",
       "      <td>NAN</td>\n",
       "      <td>NAN</td>\n",
       "      <td>NAN</td>\n",
       "      <td>NAN</td>\n",
       "      <td>NAN</td>\n",
       "      <td>NAN</td>\n",
       "      <td>NAN</td>\n",
       "    </tr>\n",
       "    <tr>\n",
       "      <th>1</th>\n",
       "      <td>NaN</td>\n",
       "      <td>NaN</td>\n",
       "      <td>NaN</td>\n",
       "      <td>35.0</td>\n",
       "      <td>NaN</td>\n",
       "      <td>50-99</td>\n",
       "      <td>99.0</td>\n",
       "      <td>50.0</td>\n",
       "      <td>NaN</td>\n",
       "      <td>NaN</td>\n",
       "      <td>...</td>\n",
       "      <td>$11,146,615</td>\n",
       "      <td>$55,733.08</td>\n",
       "      <td>NAN</td>\n",
       "      <td>NAN</td>\n",
       "      <td>NAN</td>\n",
       "      <td>NAN</td>\n",
       "      <td>NAN</td>\n",
       "      <td>NAN</td>\n",
       "      <td>NAN</td>\n",
       "      <td>NAN</td>\n",
       "    </tr>\n",
       "    <tr>\n",
       "      <th>2</th>\n",
       "      <td>NaN</td>\n",
       "      <td>NaN</td>\n",
       "      <td>NaN</td>\n",
       "      <td>35.0</td>\n",
       "      <td>NaN</td>\n",
       "      <td>50-99</td>\n",
       "      <td>99.0</td>\n",
       "      <td>50.0</td>\n",
       "      <td>NaN</td>\n",
       "      <td>NaN</td>\n",
       "      <td>...</td>\n",
       "      <td>$85,000,000</td>\n",
       "      <td>$71,729.96</td>\n",
       "      <td>NAN</td>\n",
       "      <td>NAN</td>\n",
       "      <td>NAN</td>\n",
       "      <td>NAN</td>\n",
       "      <td>NAN</td>\n",
       "      <td>NAN</td>\n",
       "      <td>NAN</td>\n",
       "      <td>NAN</td>\n",
       "    </tr>\n",
       "    <tr>\n",
       "      <th>3</th>\n",
       "      <td>NaN</td>\n",
       "      <td>NaN</td>\n",
       "      <td>NaN</td>\n",
       "      <td>35.0</td>\n",
       "      <td>NaN</td>\n",
       "      <td>50-99</td>\n",
       "      <td>99.0</td>\n",
       "      <td>50.0</td>\n",
       "      <td>NaN</td>\n",
       "      <td>NaN</td>\n",
       "      <td>...</td>\n",
       "      <td>$11,146,615</td>\n",
       "      <td>$55,733.08</td>\n",
       "      <td>NAN</td>\n",
       "      <td>NAN</td>\n",
       "      <td>NAN</td>\n",
       "      <td>NAN</td>\n",
       "      <td>NAN</td>\n",
       "      <td>NAN</td>\n",
       "      <td>NAN</td>\n",
       "      <td>NAN</td>\n",
       "    </tr>\n",
       "    <tr>\n",
       "      <th>4</th>\n",
       "      <td>NaN</td>\n",
       "      <td>NaN</td>\n",
       "      <td>NaN</td>\n",
       "      <td>35.0</td>\n",
       "      <td>NaN</td>\n",
       "      <td>50-99</td>\n",
       "      <td>NaN</td>\n",
       "      <td>NaN</td>\n",
       "      <td>50.0</td>\n",
       "      <td>99.0</td>\n",
       "      <td>...</td>\n",
       "      <td>$85,000,000</td>\n",
       "      <td>$71,729.96</td>\n",
       "      <td>NAN</td>\n",
       "      <td>NAN</td>\n",
       "      <td>NAN</td>\n",
       "      <td>NAN</td>\n",
       "      <td>NAN</td>\n",
       "      <td>NAN</td>\n",
       "      <td>NAN</td>\n",
       "      <td>NAN</td>\n",
       "    </tr>\n",
       "  </tbody>\n",
       "</table>\n",
       "<p>5 rows × 39 columns</p>\n",
       "</div>"
      ],
      "text/plain": [
       "  ADDRESS1 ADDRESS2 CITY  COUNTY  COUNTYCODE EMP RANGE  EMP_MAX  EMP_MIN  \\\n",
       "0      NaN      NaN  NaN    35.0         NaN     50-99     99.0     50.0   \n",
       "1      NaN      NaN  NaN    35.0         NaN     50-99     99.0     50.0   \n",
       "2      NaN      NaN  NaN    35.0         NaN     50-99     99.0     50.0   \n",
       "3      NaN      NaN  NaN    35.0         NaN     50-99     99.0     50.0   \n",
       "4      NaN      NaN  NaN    35.0         NaN     50-99      NaN      NaN   \n",
       "\n",
       "   EMP_MIN 1  EMP_MIN 2    ...     Maximum_Cap_Incentive per job cost  \\\n",
       "0        NaN        NaN    ...              $85,000,000   $71,729.96    \n",
       "1        NaN        NaN    ...              $11,146,615   $55,733.08    \n",
       "2        NaN        NaN    ...              $85,000,000   $71,729.96    \n",
       "3        NaN        NaN    ...              $11,146,615   $55,733.08    \n",
       "4       50.0       99.0    ...              $85,000,000   $71,729.96    \n",
       "\n",
       "  start_year_min start_year_max end_year_min end_year_max min_2017  max_2017  \\\n",
       "0            NAN            NAN          NAN          NAN      NAN       NAN   \n",
       "1            NAN            NAN          NAN          NAN      NAN       NAN   \n",
       "2            NAN            NAN          NAN          NAN      NAN       NAN   \n",
       "3            NAN            NAN          NAN          NAN      NAN       NAN   \n",
       "4            NAN            NAN          NAN          NAN      NAN       NAN   \n",
       "\n",
       "  min_growth max_growth  \n",
       "0        NAN        NAN  \n",
       "1        NAN        NAN  \n",
       "2        NAN        NAN  \n",
       "3        NAN        NAN  \n",
       "4        NAN        NAN  \n",
       "\n",
       "[5 rows x 39 columns]"
      ]
     },
     "execution_count": 28,
     "metadata": {},
     "output_type": "execute_result"
    }
   ],
   "source": [
    "merge.head()"
   ]
  },
  {
   "cell_type": "code",
   "execution_count": 29,
   "metadata": {
    "collapsed": false,
    "deletable": true,
    "editable": true
   },
   "outputs": [
    {
     "name": "stdout",
     "output_type": "stream",
     "text": [
      "<class 'pandas.core.frame.DataFrame'>\n",
      "Int64Index: 4839 entries, 0 to 4838\n",
      "Data columns (total 39 columns):\n",
      "ADDRESS1                                      4422 non-null object\n",
      "ADDRESS2                                      240 non-null object\n",
      "CITY                                          4438 non-null object\n",
      "COUNTY                                        4383 non-null float64\n",
      "COUNTYCODE                                    456 non-null float64\n",
      "EMP RANGE                                     4730 non-null object\n",
      "EMP_MAX                                       4178 non-null float64\n",
      "EMP_MIN                                       4366 non-null float64\n",
      "EMP_MIN 1                                     364 non-null float64\n",
      "EMP_MIN 2                                     350 non-null float64\n",
      "NAICS                                         4839 non-null object\n",
      "NAME_x                                        4839 non-null object\n",
      "NAME_CLEAN                                    4839 non-null object\n",
      "OWN                                           4839 non-null object\n",
      "PHONE                                         2770 non-null object\n",
      "STATE                                         4438 non-null object\n",
      "WEB ADDRESS                                   135 non-null object\n",
      "YEAR                                          4839 non-null int64\n",
      "ZIP                                           4438 non-null object\n",
      "YEAR_EDTIF                                    4839 non-null object\n",
      "NAME_y                                        4839 non-null object\n",
      "FIRMFIND                                      4839 non-null object\n",
      "Location                                      4839 non-null object\n",
      "Incentive_Type                                4839 non-null object\n",
      "Term                                          4839 non-null object\n",
      "Projected_Jobs                                4839 non-null object\n",
      "Projected_New_State_Tax_Revenue_Over_Term     4839 non-null object\n",
      "Projected_Capital_Investment                  4839 non-null object\n",
      "Projected_New_State_Wages                     4839 non-null object\n",
      "Maximum_Cap_Incentive                         4839 non-null object\n",
      "per job cost                                  4839 non-null object\n",
      "start_year_min                                4839 non-null object\n",
      "start_year_max                                4839 non-null object\n",
      "end_year_min                                  4839 non-null object\n",
      "end_year_max                                  4839 non-null object\n",
      "min_2017                                      4839 non-null object\n",
      "max_2017                                      4839 non-null object\n",
      "min_growth                                    4839 non-null object\n",
      "max_growth                                    4839 non-null object\n",
      "dtypes: float64(6), int64(1), object(32)\n",
      "memory usage: 1.5+ MB\n"
     ]
    }
   ],
   "source": [
    "merge.info()"
   ]
  },
  {
   "cell_type": "code",
   "execution_count": 37,
   "metadata": {
    "collapsed": false,
    "deletable": true,
    "editable": true
   },
   "outputs": [],
   "source": [
    "merge.to_csv('merged2.csv')"
   ]
  },
  {
   "cell_type": "code",
   "execution_count": 38,
   "metadata": {
    "collapsed": false,
    "deletable": true,
    "editable": true
   },
   "outputs": [
    {
     "name": "stdout",
     "output_type": "stream",
     "text": [
      "<class 'pandas.core.frame.DataFrame'>\n",
      "Int64Index: 4850 entries, 0 to 4849\n",
      "Data columns (total 39 columns):\n",
      "ADDRESS1                                      4433 non-null object\n",
      "ADDRESS2                                      241 non-null object\n",
      "CITY                                          4449 non-null object\n",
      "COUNTY                                        4394 non-null float64\n",
      "COUNTYCODE                                    456 non-null float64\n",
      "EMP RANGE                                     4741 non-null object\n",
      "EMP_MAX                                       4188 non-null float64\n",
      "EMP_MIN                                       4376 non-null float64\n",
      "EMP_MIN 1                                     365 non-null float64\n",
      "EMP_MIN 2                                     351 non-null float64\n",
      "NAICS                                         4850 non-null object\n",
      "NAME_x                                        4850 non-null object\n",
      "NAME_CLEAN                                    4850 non-null object\n",
      "OWN                                           4850 non-null object\n",
      "PHONE                                         2781 non-null object\n",
      "STATE                                         4449 non-null object\n",
      "WEB ADDRESS                                   135 non-null object\n",
      "YEAR                                          4850 non-null int64\n",
      "ZIP                                           4449 non-null object\n",
      "YEAR_EDTIF                                    4850 non-null object\n",
      "NAME_y                                        4850 non-null object\n",
      "FIRMFIND                                      4850 non-null object\n",
      "Location                                      4850 non-null object\n",
      "Incentive_Type                                4850 non-null object\n",
      "Term                                          4850 non-null object\n",
      "Projected_Jobs                                4850 non-null object\n",
      "Projected_New_State_Tax_Revenue_Over_Term     4850 non-null object\n",
      "Projected_Capital_Investment                  4850 non-null object\n",
      "Projected_New_State_Wages                     4850 non-null object\n",
      "Maximum_Cap_Incentive                         4850 non-null object\n",
      "per job cost                                  4850 non-null object\n",
      "start_year_min                                4850 non-null object\n",
      "start_year_max                                4850 non-null object\n",
      "end_year_min                                  4850 non-null object\n",
      "end_year_max                                  4850 non-null object\n",
      "min_2017                                      4850 non-null object\n",
      "max_2017                                      4850 non-null object\n",
      "min_growth                                    4850 non-null object\n",
      "max_growth                                    4850 non-null object\n",
      "dtypes: float64(6), int64(1), object(32)\n",
      "memory usage: 1.5+ MB\n"
     ]
    }
   ],
   "source": [
    "merge.info()"
   ]
  },
  {
   "cell_type": "code",
   "execution_count": null,
   "metadata": {
    "collapsed": true,
    "deletable": true,
    "editable": true
   },
   "outputs": [],
   "source": []
  }
 ],
 "metadata": {
  "kernelspec": {
   "display_name": "Python 2",
   "language": "python",
   "name": "python2"
  },
  "language_info": {
   "codemirror_mode": {
    "name": "ipython",
    "version": 2
   },
   "file_extension": ".py",
   "mimetype": "text/x-python",
   "name": "python",
   "nbconvert_exporter": "python",
   "pygments_lexer": "ipython2",
   "version": "2.7.13"
  }
 },
 "nbformat": 4,
 "nbformat_minor": 2
}
